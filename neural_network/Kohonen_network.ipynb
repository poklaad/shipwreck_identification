{
  "nbformat": 4,
  "nbformat_minor": 0,
  "metadata": {
    "colab": {
      "provenance": []
    },
    "kernelspec": {
      "name": "python3",
      "display_name": "Python 3"
    },
    "language_info": {
      "name": "python"
    }
  },
  "cells": [
    {
      "cell_type": "markdown",
      "source": [
        "# **Многослойоный перцептрон** <br>\n"
      ],
      "metadata": {
        "id": "C_jYm4eNUB5H"
      }
    },
    {
      "cell_type": "markdown",
      "source": [
        "Для работы кода необходимо предоставить доступ к Google Disk, создать в корне папки Autocorrelation и Lables, загрузить в них набор данных и метки, а также создать в корне папку multilayer_perceptron для сохранения результатов обучения"
      ],
      "metadata": {
        "id": "hjWEiwPiUERO"
      }
    },
    {
      "cell_type": "markdown",
      "source": [
        "Загрузка данных с Google Disk"
      ],
      "metadata": {
        "id": "kT4mW3A_UGrd"
      }
    },
    {
      "cell_type": "code",
      "execution_count": 2,
      "metadata": {
        "colab": {
          "base_uri": "https://localhost:8080/"
        },
        "id": "4SmhOpNXS5VF",
        "outputId": "9e5f1e81-5c00-45cf-df0e-683f24b0c76c"
      },
      "outputs": [
        {
          "output_type": "stream",
          "name": "stdout",
          "text": [
            "Mounted at /content/drive/\n"
          ]
        }
      ],
      "source": [
        "from google.colab import drive\n",
        "drive.mount('/content/drive/')"
      ]
    },
    {
      "cell_type": "code",
      "source": [
        "!ls \"/content/drive/My Drive/\""
      ],
      "metadata": {
        "colab": {
          "base_uri": "https://localhost:8080/"
        },
        "id": "e8pD9WO7TC1n",
        "outputId": "e4624e6b-eb05-4de2-bda8-93d1e6799cc9"
      },
      "execution_count": 3,
      "outputs": [
        {
          "output_type": "stream",
          "name": "stdout",
          "text": [
            " 2_5305779684380783213.docx   IMG_20180624_012413.jpg\n",
            " baza.pdf\t\t      IMG_20180624_012420.jpg\n",
            "'Colab Notebooks'\t      IMG_20180624_012444.jpg\n",
            " DSCF3993.jpg\t\t      IMG_20180624_012451.jpg\n",
            " DSCF4073.jpg\t\t      IMG_20180624_012500.jpg\n",
            " DSCF4121.jpg\t\t      IMG_20180624_012501.jpg\n",
            " DSCF4264.jpg\t\t      IMG_20180624_013405.jpg\n",
            " DSCF4275.jpg\t\t      IMG_20191218_123350.jpg\n",
            " DSCF4971.jpg\t\t      IMG_20191218_123418.jpg\n",
            " IMG_0689.jpg\t\t      IMG_20191218_124720.jpg\n",
            " IMG_0823.jpg\t\t      IMG_20191218_130138.jpg\n",
            " IMG_0878.jpg\t\t      Lektsia_1_2022.ppt\n",
            " IMG_0954.jpg\t\t      Lektsia_2_2022.ppt\n",
            " IMG_20180623_215438.jpg      Lektsia_3_2022.ppt\n",
            " IMG_20180623_215449.jpg      otvety_1.docx\n",
            " IMG_20180623_220917.jpg      otvety_2.docx\n",
            " IMG_20180623_224551.jpg      otvety_3.docx\n",
            " IMG_20180623_224604.jpg      Transmetropolitan\n",
            " IMG_20180623_224606.jpg      ULA_6552.gdoc\n",
            " IMG_20180623_224923.jpg      ULA_6675.gdoc\n",
            " IMG_20180623_225647.jpg      ULA_6679.gdoc\n",
            " IMG_20180623_225943.jpg      ULA_6681.gdoc\n",
            " IMG_20180623_225946.jpg      VID_20180624_010027.mp4\n",
            " IMG_20180623_230156.jpg      VID_20180624_010302.mp4\n",
            " IMG_20180623_233035.jpg      voprosy.docx\n",
            " IMG_20180624_004049.jpg     'Алтай 2022'\n",
            " IMG_20180624_005929.jpg      англ.gdoc\n",
            " IMG_20180624_005948.jpg     'Архитектура сервера с таблицами.docx'\n",
            " IMG_20180624_005956.jpg     'Интеллектуальные системы. Экзамен.docx'\n",
            " IMG_20180624_005959.jpg      Лекция_№3_2022.pptx\n",
            " IMG_20180624_010002.jpg      Лекция_№4_2022.pptx\n",
            " IMG_20180624_010004.jpg     'Новый документ (1).gdoc'\n",
            " IMG_20180624_010012.jpg     'Новый документ (2).gdoc'\n",
            " IMG_20180624_010015.jpg     'Новый документ (3).gdoc'\n",
            " IMG_20180624_010153.jpg     'Новый документ (4).gdoc'\n",
            " IMG_20180624_010206.jpg     'Новый документ.gdoc'\n",
            " IMG_20180624_010241.jpg      Описание.docx\n",
            " IMG_20180624_010311.jpg      Проекты\n",
            " IMG_20180624_010313_1.jpg   'Расписание зачетов.gsheet'\n",
            " IMG_20180624_010459.jpg     'Спринт 1.pptx'\n",
            " IMG_20180624_010504.jpg     'Техническое задание по проекту.docx'\n",
            " IMG_20180624_010536.jpg      Тз_веб.docx\n",
            " IMG_20180624_012024.jpg     'Учебная практика'\n",
            " IMG_20180624_012410.jpg\n"
          ]
        }
      ]
    },
    {
      "cell_type": "markdown",
      "source": [
        "Загрузка библиотеки для построения сети Кохонена"
      ],
      "metadata": {
        "id": "jH4gTID0UL2I"
      }
    },
    {
      "cell_type": "code",
      "source": [
        "!pip install minisom"
      ],
      "metadata": {
        "colab": {
          "base_uri": "https://localhost:8080/"
        },
        "id": "lVKujUbcTCzP",
        "outputId": "d51c592c-6a9e-493c-a273-7c3de8eb2f82"
      },
      "execution_count": 4,
      "outputs": [
        {
          "output_type": "stream",
          "name": "stdout",
          "text": [
            "Looking in indexes: https://pypi.org/simple, https://us-python.pkg.dev/colab-wheels/public/simple/\n",
            "Collecting minisom\n",
            "  Downloading MiniSom-2.3.1.tar.gz (10 kB)\n",
            "  Preparing metadata (setup.py) ... \u001b[?25l\u001b[?25hdone\n",
            "Building wheels for collected packages: minisom\n",
            "  Building wheel for minisom (setup.py) ... \u001b[?25l\u001b[?25hdone\n",
            "  Created wheel for minisom: filename=MiniSom-2.3.1-py3-none-any.whl size=10589 sha256=4bb39e09c1ff508a23e49dec3d44ae2fd35f9560c2e973e400bd7a33769b610a\n",
            "  Stored in directory: /root/.cache/pip/wheels/c7/92/d2/33bbda5f86fd8830510b16aa98c8dd420129b5cb24248fd6db\n",
            "Successfully built minisom\n",
            "Installing collected packages: minisom\n",
            "Successfully installed minisom-2.3.1\n"
          ]
        }
      ]
    },
    {
      "cell_type": "markdown",
      "source": [
        "Подключение библиотек"
      ],
      "metadata": {
        "id": "xXiiK8wWUK79"
      }
    },
    {
      "cell_type": "code",
      "source": [
        "import matplotlib\n",
        "matplotlib.use(\"Agg\")\n",
        "from sklearn.model_selection import train_test_split\n",
        "from sklearn.metrics import classification_report\n",
        "from keras.models import Sequential\n",
        "from keras.models import load_model\n",
        "from keras.layers.core import Dense\n",
        "from keras.optimizers import Adagrad\n",
        "from keras.optimizers import Adadelta\n",
        "from keras.optimizers import RMSprop\n",
        "from keras.optimizers import Adam\n",
        "from keras.optimizers import SGD\n",
        "from imutils import paths\n",
        "import matplotlib.pyplot as plt\n",
        "import numpy as np\n",
        "from minisom import MiniSom\n",
        "import pathlib\n",
        "import pandas\n",
        "import random\n",
        "import pickle\n",
        "import cv2\n",
        "import os\n",
        "\n",
        "from keras.callbacks import EarlyStopping\n",
        "from keras.callbacks import ModelCheckpoint"
      ],
      "metadata": {
        "id": "DbhYuFLNTCwh"
      },
      "execution_count": 5,
      "outputs": []
    },
    {
      "cell_type": "markdown",
      "source": [
        "Преобразование набора данных в формат, удобный для обучения. Эта часть кода может быть выполнена один раз, поскольку в нем преобразованные данные сохраняются на Google Disk, после чего они могут быть загружены в уже готовом виде"
      ],
      "metadata": {
        "id": "uo58l5waUfn9"
      }
    },
    {
      "cell_type": "code",
      "source": [
        "au_p = pathlib.Path(\"/content/drive/My Drive/Colab Notebooks/Autocorrelation/\").glob('**/*')\n",
        "AutocorPaths = [x for x in au_p if x.is_file()]\n",
        "random.seed(40)\n",
        "la_p = pathlib.Path(\"/content/drive/My Drive/Colab Notebooks/Labels/\").glob('**/*')\n",
        "LabelsPaths = [x for x in la_p if x.is_file()]\n",
        "print(len(AutocorPaths))\n",
        "Paths = list(zip(AutocorPaths, LabelsPaths))\n",
        "random.shuffle(Paths)\n",
        "#AutocorPaths, LabelsPaths = zip(*temp)\n",
        "#AutocorPaths, LabelsPaths = list(AutocorPaths), list(LabelsPaths)\n",
        "\n",
        "data = []\n",
        "labels = []\n",
        "\n",
        "\n",
        "for autocorpath, labelspath in Paths:\n",
        "  auto_file = open(autocorpath,'r')\n",
        "  label_file = open(labelspath,'r') \n",
        "\n",
        "  for auto_line in auto_file:\n",
        "    auto_temp = auto_line.split()\n",
        "    autocor_sample = [float(item) for item in auto_temp]\n",
        "\n",
        "    label_line = label_file.readline()\n",
        "    label_temp = label_line.split()\n",
        "    label_sample = [int(item) for item in label_temp]\n",
        "\n",
        "    # Функция автокорреляции записывается столько раз, сколько меток ей сопоставлено\n",
        "    for label in label_sample:\n",
        "      one_hot_label = [0, 0, 0, 0, 0]\n",
        "      one_hot_label[label-1] = 1\n",
        "      labels.append(one_hot_label)\n",
        "      data.append(autocor_sample)\n",
        "  \n",
        "\n",
        "  label_file.close()\n",
        "  auto_file.close()\n",
        "    \n",
        "\n",
        "print(len(labels))\n",
        "\n",
        "data = np.array(data)\n",
        "labels = np.array(labels)\n",
        "\n",
        "with open(\"/content/drive/My Drive/Colab Notebooks/Kohonen_network/data.pickle\", 'wb') as f:\n",
        "  pickle.dump(data, f)\n",
        "print(\"Data saved\")\n",
        "\n",
        "with open(\"/content/drive/My Drive/Colab Notebooks/Kohonen_network/labels.pickle\", 'wb') as f:\n",
        "  pickle.dump(labels, f)\n",
        "print(\"Labels saved\")"
      ],
      "metadata": {
        "colab": {
          "base_uri": "https://localhost:8080/"
        },
        "id": "yFHRySqDTCt_",
        "outputId": "49e637c3-70cd-4498-8cbd-20160fd25ef0"
      },
      "execution_count": 6,
      "outputs": [
        {
          "output_type": "stream",
          "name": "stdout",
          "text": [
            "1\n",
            "745\n",
            "Data saved\n",
            "Labels saved\n"
          ]
        }
      ]
    },
    {
      "cell_type": "markdown",
      "source": [
        "Преобразование набора данных в обучающую и тестовую выборки"
      ],
      "metadata": {
        "id": "wxY5FjVXUi7l"
      }
    },
    {
      "cell_type": "code",
      "source": [
        "with open(\"/content/drive/My Drive/Colab Notebooks/Kohonen_network/data.pickle\", 'rb') as f:\n",
        "  data = pickle.load(f)\n",
        "print(\"Data loaded\")\n",
        "\n",
        "with open(\"/content/drive/My Drive/Colab Notebooks/Kohonen_network/labels.pickle\", 'rb') as f:\n",
        "  labels = pickle.load(f)\n",
        "print(\"Labels loaded\")\n",
        "\n",
        "(trainX, testX, trainY, testY) = train_test_split(data, labels,\n",
        "                                                  test_size=0.15,\n",
        "                                                  random_state=40)\n",
        "\n",
        "#(trainX, testX, train_labels_nums, test_labels_nums) = train_test_split(data, labels_nums,\n",
        "#                                                  test_size=0.15,\n",
        "#                                                  random_state=42)\n",
        "\n",
        "print(\"Dataset prepared\")"
      ],
      "metadata": {
        "colab": {
          "base_uri": "https://localhost:8080/"
        },
        "id": "bDNqjL32TCrX",
        "outputId": "8eee452e-0771-45b1-ec9a-c10ee1b1b538"
      },
      "execution_count": 7,
      "outputs": [
        {
          "output_type": "stream",
          "name": "stdout",
          "text": [
            "Data loaded\n",
            "Labels loaded\n",
            "Dataset prepared\n"
          ]
        }
      ]
    },
    {
      "cell_type": "markdown",
      "source": [
        "Преобразование one hot представления меток в целые числа от 1 до 5\n",
        "\n",
        "---\n",
        "\n"
      ],
      "metadata": {
        "id": "H9F0uScRUkLl"
      }
    },
    {
      "cell_type": "code",
      "source": [
        "train_labels_nums = [];\n",
        "test_labels_nums = [];\n",
        "\n",
        "for one_hot_label in trainY:\n",
        "  res = [idx for idx, val in enumerate(one_hot_label) if val != 0]\n",
        "  label = res[0]+1\n",
        "  train_labels_nums.append(label)\n",
        "\n",
        "for one_hot_label in testY:\n",
        "  res = [idx for idx, val in enumerate(one_hot_label) if val != 0]\n",
        "  label = res[0]+1\n",
        "  test_labels_nums.append(label)"
      ],
      "metadata": {
        "id": "3eR-W_UaTCos"
      },
      "execution_count": 8,
      "outputs": []
    },
    {
      "cell_type": "markdown",
      "source": [
        "Обучение сети и результаты обучения нейронной сети. Выводятся результаты применения сети к тестовой выборке и отчет о качестве работы сети. В отчете представлены значения метрик precision, recall и f1-score для каждого из пяти типовых аварийных состояний судна, а также их средние значения для всех типов вместе"
      ],
      "metadata": {
        "id": "GhCEyOx-U3-s"
      }
    },
    {
      "cell_type": "code",
      "source": [
        "som_pure_data = MiniSom(x= 1, y = 5, input_len = 30, neighborhood_function = 'gaussian',sigma=0.01, learning_rate=0.1)\n",
        "\n",
        "som_pure_data.random_weights_init(trainX)\n",
        "starting_weights = som_pure_data.get_weights().copy()\n",
        "som_pure_data.train(trainX, 1000000)\n",
        "\n",
        "qnt = som_pure_data.quantization(testX)\n",
        "som_pure_data.quantization_error(testX)\n",
        "\n",
        "winmap_pure_data = som_pure_data.labels_map(trainX, train_labels_nums)\n",
        "default_class = np.sum(list(winmap_pure_data.values())).most_common()[0][0]\n",
        "result = []\n",
        "for d in trainX:\n",
        "    win_position = som_pure_data.winner(d)\n",
        "    if win_position in winmap_pure_data:\n",
        "        result.append(winmap_pure_data[win_position].most_common()[0][0])\n",
        "    else:\n",
        "        result.append(default_class)\n",
        "print(classification_report(train_labels_nums, result))"
      ],
      "metadata": {
        "colab": {
          "base_uri": "https://localhost:8080/"
        },
        "id": "sPaeGSt-TCmP",
        "outputId": "730ff299-0354-4667-8fae-e2850d9eca10"
      },
      "execution_count": 9,
      "outputs": [
        {
          "output_type": "stream",
          "name": "stdout",
          "text": [
            "              precision    recall  f1-score   support\n",
            "\n",
            "           1       0.67      0.45      0.54       128\n",
            "           2       0.56      0.99      0.71       122\n",
            "           3       0.58      0.43      0.50       122\n",
            "           4       0.53      0.43      0.48       130\n",
            "           5       0.55      0.56      0.56       131\n",
            "\n",
            "    accuracy                           0.57       633\n",
            "   macro avg       0.58      0.57      0.56       633\n",
            "weighted avg       0.58      0.57      0.55       633\n",
            "\n"
          ]
        }
      ]
    }
  ]
}